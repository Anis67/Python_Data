{
 "cells": [
  {
   "cell_type": "code",
   "execution_count": 2,
   "id": "ddcfbf29",
   "metadata": {},
   "outputs": [
    {
     "name": "stdout",
     "output_type": "stream",
     "text": [
      "Requirement already satisfied: pymongo in c:\\users\\mugiw\\anaconda3\\lib\\site-packages (4.10.1)\n",
      "Requirement already satisfied: dnspython<3.0.0,>=1.16.0 in c:\\users\\mugiw\\anaconda3\\lib\\site-packages (from pymongo) (2.6.1)\n"
     ]
    }
   ],
   "source": [
    "!pip install pymongo\n"
   ]
  },
  {
   "cell_type": "code",
   "execution_count": 6,
   "id": "5642fe3c",
   "metadata": {},
   "outputs": [],
   "source": [
    "from pymongo import MongoClient\n",
    "\n",
    "# Connexion à MongoDB\n",
    "client = MongoClient(\"mongodb://localhost:27017/\")\n",
    "\n",
    "# Création ou accès à la base de données\n",
    "db = client[\"magasin\"]  \n",
    "\n",
    "# Création ou accès à la collection\n",
    "collection = db[\"avis_clients\"]  \n"
   ]
  },
  {
   "cell_type": "code",
   "execution_count": 4,
   "id": "bc88f730",
   "metadata": {},
   "outputs": [
    {
     "name": "stdout",
     "output_type": "stream",
     "text": [
      "{'client_id': 'C006', 'produit_id': 'P005', 'note': 5, 'commentaire': 'Excellent', 'date': '2024-01-12'}\n",
      "{'client_id': 'C009', 'produit_id': 'P003', 'note': 5, 'commentaire': 'Excellent', 'date': '2024-01-27'}\n",
      "{'client_id': 'C008', 'produit_id': 'P001', 'note': 3, 'commentaire': 'Bon', 'date': '2024-03-01'}\n",
      "{'client_id': 'C004', 'produit_id': 'P004', 'note': 5, 'commentaire': 'Excellent', 'date': '2024-02-04'}\n",
      "{'client_id': 'C008', 'produit_id': 'P004', 'note': 2, 'commentaire': 'Moyen', 'date': '2024-02-29'}\n"
     ]
    }
   ],
   "source": [
    "import random\n",
    "from datetime import datetime, timedelta\n",
    "\n",
    "clients = [f\"C{str(i).zfill(3)}\" for i in range(1, 11)]  \n",
    "produits = [f\"P{str(i).zfill(3)}\" for i in range(1, 6)]  \n",
    "\n",
    "avis_textes = {\n",
    "    5: \"Excellent\",\n",
    "    4: \"Très bon\",\n",
    "    3: \"Bon\",\n",
    "    2: \"Moyen\",\n",
    "    1: \"Mauvais\"\n",
    "}\n",
    "\n",
    "avis_clients = []\n",
    "start_date = datetime(2024, 1, 1)\n",
    "\n",
    "for i in range(50):\n",
    "    note = round(random.uniform(1, 5))  # Note entière entre 1 et 5\n",
    "    avis = {\n",
    "        \"client_id\": random.choice(clients),\n",
    "        \"produit_id\": random.choice(produits),\n",
    "        \"note\": note,\n",
    "        \"commentaire\": avis_textes[note],\n",
    "        \"date\": (start_date + timedelta(days=random.randint(0, 90))).strftime(\"%Y-%m-%d\")  # Date aléatoire sur 3 mois\n",
    "    }\n",
    "    avis_clients.append(avis)\n",
    "\n",
    "# Affichage des 5 premiers avis pour aperçu\n",
    "for avis in avis_clients[:5]:\n",
    "    print(avis)\n"
   ]
  },
  {
   "cell_type": "code",
   "execution_count": 5,
   "id": "85fb0cdc",
   "metadata": {},
   "outputs": [
    {
     "name": "stdout",
     "output_type": "stream",
     "text": [
      "Données insérées avec succès !\n"
     ]
    }
   ],
   "source": [
    "# Insérer les avis dans la collection MongoDB\n",
    "collection.insert_many(avis_clients)\n",
    "\n",
    "print(\"Données insérées avec succès !\")\n"
   ]
  },
  {
   "cell_type": "code",
   "execution_count": 7,
   "id": "453aedbc",
   "metadata": {},
   "outputs": [
    {
     "name": "stdout",
     "output_type": "stream",
     "text": [
      "('C006', 'P005', 5, 'Excellent', '2024-01-12')\n",
      "('C009', 'P003', 5, 'Excellent', '2024-01-27')\n",
      "('C008', 'P001', 3, 'Bon', '2024-03-01')\n",
      "('C004', 'P004', 5, 'Excellent', '2024-02-04')\n",
      "('C008', 'P004', 2, 'Moyen', '2024-02-29')\n"
     ]
    }
   ],
   "source": [
    "# Récupérer les avis depuis MongoDB\n",
    "avis_recuperes = list(collection.find({}, {\"_id\": 0}))  # Exclure l'ID MongoDB\n",
    "\n",
    "# Conversion en liste de tuples\n",
    "avis_tuples = [(avis[\"client_id\"], avis[\"produit_id\"], avis[\"note\"], avis[\"commentaire\"], avis[\"date\"]) for avis in avis_recuperes]\n",
    "\n",
    "# Afficher un aperçu\n",
    "for avis in avis_tuples[:5]:\n",
    "    print(avis)\n",
    "    "
   ]
  },
  {
   "cell_type": "code",
   "execution_count": 13,
   "id": "675f13d7",
   "metadata": {},
   "outputs": [
    {
     "data": {
      "text/html": [
       "<div>\n",
       "<style scoped>\n",
       "    .dataframe tbody tr th:only-of-type {\n",
       "        vertical-align: middle;\n",
       "    }\n",
       "\n",
       "    .dataframe tbody tr th {\n",
       "        vertical-align: top;\n",
       "    }\n",
       "\n",
       "    .dataframe thead th {\n",
       "        text-align: right;\n",
       "    }\n",
       "</style>\n",
       "<table border=\"1\" class=\"dataframe\">\n",
       "  <thead>\n",
       "    <tr style=\"text-align: right;\">\n",
       "      <th></th>\n",
       "      <th>client_id</th>\n",
       "      <th>produit_id</th>\n",
       "      <th>note</th>\n",
       "      <th>commentaire</th>\n",
       "      <th>date</th>\n",
       "    </tr>\n",
       "  </thead>\n",
       "  <tbody>\n",
       "    <tr>\n",
       "      <th>0</th>\n",
       "      <td>C006</td>\n",
       "      <td>P005</td>\n",
       "      <td>5</td>\n",
       "      <td>Excellent</td>\n",
       "      <td>2024-01-12</td>\n",
       "    </tr>\n",
       "    <tr>\n",
       "      <th>1</th>\n",
       "      <td>C009</td>\n",
       "      <td>P003</td>\n",
       "      <td>5</td>\n",
       "      <td>Excellent</td>\n",
       "      <td>2024-01-27</td>\n",
       "    </tr>\n",
       "    <tr>\n",
       "      <th>2</th>\n",
       "      <td>C008</td>\n",
       "      <td>P001</td>\n",
       "      <td>3</td>\n",
       "      <td>Bon</td>\n",
       "      <td>2024-03-01</td>\n",
       "    </tr>\n",
       "    <tr>\n",
       "      <th>3</th>\n",
       "      <td>C004</td>\n",
       "      <td>P004</td>\n",
       "      <td>5</td>\n",
       "      <td>Excellent</td>\n",
       "      <td>2024-02-04</td>\n",
       "    </tr>\n",
       "    <tr>\n",
       "      <th>4</th>\n",
       "      <td>C008</td>\n",
       "      <td>P004</td>\n",
       "      <td>2</td>\n",
       "      <td>Moyen</td>\n",
       "      <td>2024-02-29</td>\n",
       "    </tr>\n",
       "  </tbody>\n",
       "</table>\n",
       "</div>"
      ],
      "text/plain": [
       "  client_id produit_id  note commentaire        date\n",
       "0      C006       P005     5   Excellent  2024-01-12\n",
       "1      C009       P003     5   Excellent  2024-01-27\n",
       "2      C008       P001     3         Bon  2024-03-01\n",
       "3      C004       P004     5   Excellent  2024-02-04\n",
       "4      C008       P004     2       Moyen  2024-02-29"
      ]
     },
     "execution_count": 13,
     "metadata": {},
     "output_type": "execute_result"
    }
   ],
   "source": [
    "import pandas as pd\n",
    "\n",
    "# Convertir la liste de tuples en DataFrame\n",
    "df = pd.DataFrame(avis_tuples, columns=[\"client_id\", \"produit_id\", \"note\", \"commentaire\", \"date\"])\n",
    "\n",
    "# Afficher les 5 premières lignes pour vérifier\n",
    "df.head()\n",
    "\n"
   ]
  },
  {
   "cell_type": "code",
   "execution_count": 14,
   "id": "a43fae42",
   "metadata": {},
   "outputs": [
    {
     "name": "stdout",
     "output_type": "stream",
     "text": [
      "Le produit P003 a la meilleure note moyenne de 4.00\n"
     ]
    }
   ],
   "source": [
    "#Produit avec la meilleure moyenne \n",
    "\n",
    "meilleur_produit = df.groupby(\"produit_id\")[\"note\"].mean().idxmax()\n",
    "meilleure_note = df.groupby(\"produit_id\")[\"note\"].mean().max()\n",
    "\n",
    "print(f\"Le produit {meilleur_produit} a la meilleure note moyenne de {meilleure_note:.2f}\")\n",
    "\n"
   ]
  },
  {
   "cell_type": "code",
   "execution_count": 15,
   "id": "255218d3",
   "metadata": {},
   "outputs": [
    {
     "name": "stdout",
     "output_type": "stream",
     "text": [
      "Le client C001 a laissé le plus d’avis : 8\n"
     ]
    }
   ],
   "source": [
    "#Clinet qui a laissé le plus d'avis\n",
    "meilleur_client = df[\"client_id\"].value_counts().idxmax()\n",
    "nb_avis_client = df[\"client_id\"].value_counts().max()\n",
    "\n",
    "print(f\"Le client {meilleur_client} a laissé le plus d’avis : {nb_avis_client}\")\n"
   ]
  },
  {
   "cell_type": "code",
   "execution_count": 16,
   "id": "9c0fd430",
   "metadata": {},
   "outputs": [
    {
     "name": "stdout",
     "output_type": "stream",
     "text": [
      "Nombre total d’avis par produit :\n",
      "P001    18\n",
      "P004    12\n",
      "P005     9\n",
      "P003     6\n",
      "P002     5\n",
      "Name: produit_id, dtype: int64\n"
     ]
    }
   ],
   "source": [
    "#Nombre d'avis par produit\n",
    "avis_par_produit = df[\"produit_id\"].value_counts()\n",
    "\n",
    "print(\"Nombre total d’avis par produit :\")\n",
    "print(avis_par_produit)\n"
   ]
  },
  {
   "cell_type": "code",
   "execution_count": null,
   "id": "b1854a37",
   "metadata": {},
   "outputs": [],
   "source": []
  }
 ],
 "metadata": {
  "kernelspec": {
   "display_name": "Python 3",
   "language": "python",
   "name": "python3"
  },
  "language_info": {
   "codemirror_mode": {
    "name": "ipython",
    "version": 3
   },
   "file_extension": ".py",
   "mimetype": "text/x-python",
   "name": "python",
   "nbconvert_exporter": "python",
   "pygments_lexer": "ipython3",
   "version": "3.8.8"
  }
 },
 "nbformat": 4,
 "nbformat_minor": 5
}
